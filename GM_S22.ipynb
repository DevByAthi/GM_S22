{
  "nbformat": 4,
  "nbformat_minor": 0,
  "metadata": {
    "colab": {
      "name": "GM_S22.ipynb",
      "provenance": [],
      "authorship_tag": "ABX9TyN4Q3+nn3aHNKflXC6aGkz5",
      "include_colab_link": true
    },
    "kernelspec": {
      "name": "python3",
      "display_name": "Python 3"
    },
    "language_info": {
      "name": "python"
    }
  },
  "cells": [
    {
      "cell_type": "markdown",
      "metadata": {
        "id": "view-in-github",
        "colab_type": "text"
      },
      "source": [
        "<a href=\"https://colab.research.google.com/github/DevByAthi/GM_S22/blob/main/GM_S22.ipynb\" target=\"_parent\"><img src=\"https://colab.research.google.com/assets/colab-badge.svg\" alt=\"Open In Colab\"/></a>"
      ]
    },
    {
      "cell_type": "markdown",
      "source": [
        ""
      ],
      "metadata": {
        "id": "8sE3sTUDLRfX"
      }
    },
    {
      "cell_type": "code",
      "source": [
        "print(\"Talkin git\")"
      ],
      "metadata": {
        "colab": {
          "base_uri": "https://localhost:8080/"
        },
        "id": "Jz9IJyY10oHe",
        "outputId": "2687ba0c-aeb8-41ea-f482-5809e1c8b5b0"
      },
      "execution_count": 1,
      "outputs": [
        {
          "output_type": "stream",
          "name": "stdout",
          "text": [
            "Talkin git\n"
          ]
        }
      ]
    }
  ]
}